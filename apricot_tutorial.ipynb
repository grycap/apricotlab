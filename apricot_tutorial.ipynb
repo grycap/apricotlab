{
 "cells": [
  {
   "cell_type": "markdown",
   "id": "ca0c4d55",
   "metadata": {},
   "source": [
    "# 🍑 **Welcome to APRICOT** — Deploy Virtual Infrastructures from your Notebooks!\n",
    "\n",
    "## 📌 What is APRICOT?\n",
    "\n",
    "**APRICOT** is a Jupyter Notebook extension that connects with the [Infrastructure Manager (IM)](https://imdocs.readthedocs.io/en/latest/gstarted.html) 🌐 to **deploy and manage virtual infrastructures** — all from inside your notebook! No more jumping between platforms or writing scripts elsewhere.\n",
    "\n",
    "Whether you're running simulations, training ML models, or preparing remote environments — **APRICOT** helps you spin up the resources you need from the comfort of a cell! 🎯\n",
    "\n",
    "\n"
   ]
  },
  {
   "cell_type": "markdown",
   "id": "2ecce4dc",
   "metadata": {},
   "source": [
    "---"
   ]
  },
  {
   "cell_type": "markdown",
   "id": "7d5f0709",
   "metadata": {},
   "source": [
    "## 🔐 Authorization File\n",
    "\n",
    "Before diving in, you’ll need an **authorization file** to authenticate with cloud providers. This file is located at `resources/authfile`: \n",
    "\n",
    "- 👉 It's **automatically filled** if you are using predefined recipes used in **Deployment Menu**.\n",
    "\n",
    "- ✍️ You will have to manually add the neccessary cloud provider credentials if you are using the **Custom recipe** option or the `%apricot_create` magic command."
   ]
  },
  {
   "cell_type": "markdown",
   "id": "1ed9b8f8",
   "metadata": {},
   "source": [
    "> 🔍 Note: By using the predefined recipes, this file will be overwritten, so you may want to save it before deploying with the predefined recipes."
   ]
  },
  {
   "cell_type": "markdown",
   "id": "61ebc4f2",
   "metadata": {},
   "source": [
    "---"
   ]
  },
  {
   "cell_type": "markdown",
   "id": "a612f0bd",
   "metadata": {},
   "source": [
    "## 🔌 Load APRICOT Magic Commands\n",
    "Before using any commands, we need to activate the APRICOT magics:"
   ]
  },
  {
   "cell_type": "code",
   "execution_count": null,
   "id": "229eb351",
   "metadata": {
    "vscode": {
     "languageId": "plaintext"
    }
   },
   "outputs": [],
   "source": [
    "%reload_ext apricot_magics"
   ]
  },
  {
   "cell_type": "markdown",
   "id": "3159a47c",
   "metadata": {},
   "source": [
    "---"
   ]
  },
  {
   "cell_type": "markdown",
   "id": "e0a5c17d",
   "metadata": {},
   "source": [
    "## 🔄 Step 1: Get a Refresh Token\n",
    "Visit the [EGI Check-in Token Portal](https://aai.egi.eu/token/) and paste your refresh token here:"
   ]
  },
  {
   "cell_type": "code",
   "execution_count": null,
   "id": "45a9fb6e",
   "metadata": {
    "vscode": {
     "languageId": "plaintext"
    }
   },
   "outputs": [],
   "source": [
    "refresh_token = \"\""
   ]
  },
  {
   "cell_type": "markdown",
   "id": "c1b550ae",
   "metadata": {},
   "source": [
    "---"
   ]
  },
  {
   "cell_type": "markdown",
   "id": "f77503e8",
   "metadata": {},
   "source": [
    "## 🔑 Step 2: Register Your Token with APRICOT"
   ]
  },
  {
   "cell_type": "code",
   "execution_count": null,
   "id": "9b439f75",
   "metadata": {
    "vscode": {
     "languageId": "plaintext"
    }
   },
   "outputs": [],
   "source": [
    "%apricot_token $refresh_token"
   ]
  },
  {
   "cell_type": "markdown",
   "id": "f3954ffd",
   "metadata": {},
   "source": [
    "💡  **Tip**: If you've already saved this token before, (so it is saved in `resources/infrastructuresList.json`) — you can run the command without the variable. "
   ]
  },
  {
   "cell_type": "markdown",
   "id": "c7a76a5a",
   "metadata": {},
   "source": [
    "---"
   ]
  },
  {
   "cell_type": "markdown",
   "id": "009b901c",
   "metadata": {},
   "source": [
    "## 🚀 Deploy Your First Infrastructure\n",
    "You have **two ways** to launch an infrastructure:\n",
    "\n",
    "1. **Use the Deployment Menu**: Click the **Deployment menu** button in the toolbar and follow the GUI wizard (skip to the **Playing with the Infrastructure** section if you choose this).  \n",
    "\n",
    "2. **Use magic commands**_ Use a custom recipe by running the `%apricot_create` magic command."
   ]
  },
  {
   "cell_type": "markdown",
   "id": "97db2633",
   "metadata": {},
   "source": [
    "## 📜 Step 3: Define Your Infrastructure Recipe\n",
    "You can write the recipe in **TOSCA (YAML)**, **RADL** or **JSON**. Here's a TOSCA example:"
   ]
  },
  {
   "cell_type": "code",
   "execution_count": null,
   "id": "a3ea727b",
   "metadata": {
    "vscode": {
     "languageId": "plaintext"
    }
   },
   "outputs": [],
   "source": [
    "recipe = \"\"\"\n",
    "tosca_definitions_version: tosca_simple_yaml_1_0\n",
    "\n",
    "imports:\n",
    "- indigo_custom_types: https://raw.githubusercontent.com/indigo-dc/tosca-types/master/custom_types.yaml\n",
    "\n",
    "topology_template:\n",
    "  node_templates:\n",
    "    simple_node:\n",
    "      type: tosca.nodes.indigo.Compute\n",
    "      capabilities:\n",
    "        endpoint:\n",
    "          properties:\n",
    "            network_name: PUBLIC\n",
    "        host:\n",
    "          properties:\n",
    "            num_cpus: 2\n",
    "            mem_size: 2 GB\n",
    "        os:\n",
    "          properties:\n",
    "            image: one://someserver.com/123\n",
    "\n",
    "  outputs:\n",
    "    node_ip:\n",
    "      value: { get_attribute: [ simple_node, public_address, 0 ] }\n",
    "    node_creds:\n",
    "      value: { get_attribute: [ simple_node, endpoint, credential, 0 ] }\n",
    "\"\"\""
   ]
  },
  {
   "cell_type": "markdown",
   "id": "73a2aba6",
   "metadata": {},
   "source": [
    "💡 Change the _image_ value with the valid cloud provider image you want to use."
   ]
  },
  {
   "cell_type": "markdown",
   "id": "c12fb112",
   "metadata": {},
   "source": [
    "---"
   ]
  },
  {
   "cell_type": "markdown",
   "id": "8088c408",
   "metadata": {},
   "source": [
    "## 🛠️ Step 4: Create Your Infrastructure\n",
    "Run the magic command to start the deployment:"
   ]
  },
  {
   "cell_type": "code",
   "execution_count": null,
   "id": "52c47df1",
   "metadata": {
    "vscode": {
     "languageId": "plaintext"
    }
   },
   "outputs": [],
   "source": [
    "%apricot_create $recipe"
   ]
  },
  {
   "cell_type": "markdown",
   "id": "00d17f75",
   "metadata": {},
   "source": [
    "You’ll receive an **infrastructure ID** once the deployment begins."
   ]
  },
  {
   "cell_type": "markdown",
   "id": "f573c727",
   "metadata": {},
   "source": [
    "---"
   ]
  },
  {
   "cell_type": "markdown",
   "id": "ffae7a4a",
   "metadata": {},
   "source": [
    "# 🧪 Playing with the Infrastructure\n",
    "## 📋 List All Deployed Infrastructures\n",
    "To view the current status of your deployed infrastructures, use:"
   ]
  },
  {
   "cell_type": "code",
   "execution_count": null,
   "id": "a98cf0f4",
   "metadata": {
    "vscode": {
     "languageId": "plaintext"
    }
   },
   "outputs": [],
   "source": [
    "%apricot_ls"
   ]
  },
  {
   "cell_type": "markdown",
   "id": "4ebbb16f",
   "metadata": {},
   "source": [
    "## 🔎 Set Your Infrastructure ID\n",
    "Paste the ID you received in the variable below:"
   ]
  },
  {
   "cell_type": "code",
   "execution_count": null,
   "id": "aa2e5107",
   "metadata": {
    "vscode": {
     "languageId": "plaintext"
    }
   },
   "outputs": [],
   "source": [
    "infrastructure_id = \"infra-id\""
   ]
  },
  {
   "cell_type": "markdown",
   "id": "4ca5c8e5",
   "metadata": {},
   "source": [
    "## 📜 View Logs of Your Infrastructure\n",
    "Check the deployment logs of your infrastructure:"
   ]
  },
  {
   "cell_type": "code",
   "execution_count": null,
   "id": "8aad7869",
   "metadata": {
    "vscode": {
     "languageId": "plaintext"
    }
   },
   "outputs": [],
   "source": [
    "%apricot_log $infrastructure_id"
   ]
  },
  {
   "cell_type": "markdown",
   "id": "c054b449",
   "metadata": {},
   "source": [
    "## 🧠 Get Information About the Infrastructure Nodes\n",
    "Explore detailed information about your infrastructure nodes:"
   ]
  },
  {
   "cell_type": "code",
   "execution_count": null,
   "id": "bb7a266c",
   "metadata": {
    "vscode": {
     "languageId": "plaintext"
    }
   },
   "outputs": [],
   "source": [
    "%apricot_info $infrastructure_id"
   ]
  },
  {
   "cell_type": "markdown",
   "id": "2e80eb5f",
   "metadata": {},
   "source": [
    "## 🖥️ Run Commands on Your VMs\n",
    "Let’s create a file on your first virtual machine!\n",
    "\n",
    "We can use the `%apricot exec` keyword to execute different commands on the VM."
   ]
  },
  {
   "cell_type": "code",
   "execution_count": null,
   "id": "b06fbae9",
   "metadata": {
    "vscode": {
     "languageId": "plaintext"
    }
   },
   "outputs": [],
   "source": [
    "%apricot exec $infrastructure_id touch \"test.txt\""
   ]
  },
  {
   "cell_type": "markdown",
   "id": "1ca04d0e",
   "metadata": {},
   "source": [
    "> 🔍 Note: If your infrastructure uses a different OS than Linux, you’ll need to adjust the command accordingly."
   ]
  },
  {
   "cell_type": "markdown",
   "id": "bfd1d949",
   "metadata": {},
   "source": [
    "## ⬇️ **Download and Upload Files**\n",
    "## 📥 Download files from your VM\n",
    "Retrieve files from your VM to your local environment:\n"
   ]
  },
  {
   "cell_type": "code",
   "execution_count": null,
   "id": "e81a7509",
   "metadata": {
    "vscode": {
     "languageId": "plaintext"
    }
   },
   "outputs": [],
   "source": [
    "%apricot_download $infrastructure_id test.txt ."
   ]
  },
  {
   "cell_type": "markdown",
   "id": "0dd62fc4",
   "metadata": {},
   "source": [
    "Verify the file is now in your local directory:"
   ]
  },
  {
   "cell_type": "code",
   "execution_count": null,
   "id": "29aef266",
   "metadata": {
    "vscode": {
     "languageId": "plaintext"
    }
   },
   "outputs": [],
   "source": [
    "%%bash\n",
    "ls"
   ]
  },
  {
   "cell_type": "markdown",
   "id": "0f169dbf",
   "metadata": {},
   "source": [
    "## 📤 Upload files to your VM\n",
    "Upload a file from your local system to your VM:"
   ]
  },
  {
   "cell_type": "code",
   "execution_count": null,
   "id": "7c23e350",
   "metadata": {
    "vscode": {
     "languageId": "plaintext"
    }
   },
   "outputs": [],
   "source": [
    "%apricot_upload $infrastructure_id Dockerfile  ."
   ]
  },
  {
   "cell_type": "markdown",
   "id": "abe6d89e",
   "metadata": {},
   "source": [
    "Run the `%apricot exec` command to check the uploaded file: "
   ]
  },
  {
   "cell_type": "code",
   "execution_count": null,
   "id": "d6485bd2",
   "metadata": {
    "vscode": {
     "languageId": "plaintext"
    }
   },
   "outputs": [],
   "source": [
    "%apricot exec $infrastructure_id ls"
   ]
  },
  {
   "cell_type": "markdown",
   "id": "f47341cd",
   "metadata": {},
   "source": [
    "## 🧹 Clean Up — Destroy the Infrastructure"
   ]
  },
  {
   "cell_type": "markdown",
   "id": "de9f8399",
   "metadata": {},
   "source": [
    "Once you're done testing, you can destroy your infrastructure:"
   ]
  },
  {
   "cell_type": "code",
   "execution_count": null,
   "id": "b444f6ea",
   "metadata": {
    "vscode": {
     "languageId": "plaintext"
    }
   },
   "outputs": [],
   "source": [
    "%apricot_destroy $infrastructure_id"
   ]
  },
  {
   "cell_type": "markdown",
   "id": "50d40c29",
   "metadata": {},
   "source": [
    "# 🎉 You Did It!\n",
    "Congratulations, you’ve successfully deployed and managed an infrastructure directly from your notebook! Now you can explore more features or deploy your own real-world experiments! 🚀"
   ]
  }
 ],
 "metadata": {
  "language_info": {
   "name": "python"
  }
 },
 "nbformat": 4,
 "nbformat_minor": 5
}
